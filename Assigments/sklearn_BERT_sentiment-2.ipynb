{
 "cells": [
  {
   "cell_type": "code",
   "execution_count": null,
   "metadata": {
    "id": "nQx8AOCyrpMA"
   },
   "outputs": [],
   "source": [
    "# Use GPU option\n",
    "\n",
    "# In Colab, go to Edit/Notebook Settings and choose the 'GPU' option before running this script"
   ]
  },
  {
   "cell_type": "code",
   "execution_count": null,
   "metadata": {
    "id": "hea3s3VeaePY"
   },
   "outputs": [],
   "source": [
    "# Load data\n",
    "\n",
    "# there are several ways to load data into Colab\n",
    "\n",
    "# 1. Host your data to GitHub (up to 25MB) and use the url to the GitHub page\n",
    "# e.g. df = pd.read_csv('https://raw.githubusercontent.com/junwang4/causal-language-use-in-science/master/data/pubmed_causal_language_use.csv') \n",
    "\n",
    "# 2. Host your data in your Google drive and then mount to your Google drive. You will be given an authorization code to finish the process\n",
    "# e.g. the following code\n",
    "# from google.colab import drive\n",
    "# drive.mount('/drive')\n",
    "# df = pd.read_csv('/drive/My Drive/train.tsv', sep='\\t')\n",
    "\n",
    "# 3. Upload your data to Colab Files. The uploaded file will be deleted when the session is disconnected. You will need to upload again after re-connect.\n",
    "# e.g.   df = pd.read_csv('train.tsv', sep='\\t')\n",
    "# In this script we use method # 3\n",
    "\n",
    "# We will use the Kaggle sentiment classification data\n",
    "# https://www.kaggle.com/c/sentiment-analysis-on-movie-reviews"
   ]
  },
  {
   "cell_type": "code",
   "execution_count": null,
   "metadata": {
    "id": "7XxvsgE2a0PJ"
   },
   "outputs": [],
   "source": [
    "import pandas as pd"
   ]
  },
  {
   "cell_type": "code",
   "execution_count": null,
   "metadata": {
    "id": "eaNt_HijbMqp"
   },
   "outputs": [],
   "source": [
    "df = pd.read_csv('train.tsv', sep='\\t')"
   ]
  },
  {
   "cell_type": "code",
   "execution_count": null,
   "metadata": {
    "colab": {
     "base_uri": "https://localhost:8080/",
     "height": 204
    },
    "id": "ztDIbwwnd0oa",
    "outputId": "3a4defdc-36eb-46c3-b9cb-ab24e502bcf4"
   },
   "outputs": [
    {
     "data": {
      "text/html": [
       "<div>\n",
       "<style scoped>\n",
       "    .dataframe tbody tr th:only-of-type {\n",
       "        vertical-align: middle;\n",
       "    }\n",
       "\n",
       "    .dataframe tbody tr th {\n",
       "        vertical-align: top;\n",
       "    }\n",
       "\n",
       "    .dataframe thead th {\n",
       "        text-align: right;\n",
       "    }\n",
       "</style>\n",
       "<table border=\"1\" class=\"dataframe\">\n",
       "  <thead>\n",
       "    <tr style=\"text-align: right;\">\n",
       "      <th></th>\n",
       "      <th>PhraseId</th>\n",
       "      <th>SentenceId</th>\n",
       "      <th>Phrase</th>\n",
       "      <th>Sentiment</th>\n",
       "    </tr>\n",
       "  </thead>\n",
       "  <tbody>\n",
       "    <tr>\n",
       "      <th>0</th>\n",
       "      <td>1</td>\n",
       "      <td>1</td>\n",
       "      <td>A series of escapades demonstrating the adage ...</td>\n",
       "      <td>1</td>\n",
       "    </tr>\n",
       "    <tr>\n",
       "      <th>1</th>\n",
       "      <td>2</td>\n",
       "      <td>1</td>\n",
       "      <td>A series of escapades demonstrating the adage ...</td>\n",
       "      <td>2</td>\n",
       "    </tr>\n",
       "    <tr>\n",
       "      <th>2</th>\n",
       "      <td>3</td>\n",
       "      <td>1</td>\n",
       "      <td>A series</td>\n",
       "      <td>2</td>\n",
       "    </tr>\n",
       "    <tr>\n",
       "      <th>3</th>\n",
       "      <td>4</td>\n",
       "      <td>1</td>\n",
       "      <td>A</td>\n",
       "      <td>2</td>\n",
       "    </tr>\n",
       "    <tr>\n",
       "      <th>4</th>\n",
       "      <td>5</td>\n",
       "      <td>1</td>\n",
       "      <td>series</td>\n",
       "      <td>2</td>\n",
       "    </tr>\n",
       "  </tbody>\n",
       "</table>\n",
       "</div>"
      ],
      "text/plain": [
       "   PhraseId  ...  Sentiment\n",
       "0         1  ...          1\n",
       "1         2  ...          2\n",
       "2         3  ...          2\n",
       "3         4  ...          2\n",
       "4         5  ...          2\n",
       "\n",
       "[5 rows x 4 columns]"
      ]
     },
     "execution_count": 4,
     "metadata": {
      "tags": []
     },
     "output_type": "execute_result"
    }
   ],
   "source": [
    "df.head()"
   ]
  },
  {
   "cell_type": "code",
   "execution_count": null,
   "metadata": {
    "colab": {
     "base_uri": "https://localhost:8080/",
     "height": 51
    },
    "id": "7SiGvLf-d_e1",
    "outputId": "744263e4-24c2-4bab-ddd4-3715ef631078"
   },
   "outputs": [
    {
     "name": "stdout",
     "output_type": "stream",
     "text": [
      "(1000, 4)\n",
      "(1000, 4)\n"
     ]
    }
   ],
   "source": [
    "# prepare train and test data\n",
    "# since fine tuning a BERT model still requires a significant amount of time, \n",
    "# only 1000 training examples and 1000 test examples will be used for demo purpose.\n",
    "# prior experiment shows LinearSVC's best accuracy (3-fold CV) is about 62-65% depending on vectorization options\n",
    "# BERT should be able to outperform LinearSVC with far fewer training examples.\n",
    "\n",
    "dff = df.sample(frac=1)\n",
    "#train_size = int(0.01 * len(dff))\n",
    "#df_train = dff[:train_size]\n",
    "#df_test = dff[train_size:]\n",
    "df_train = dff[:1000]\n",
    "df_test = dff[-1000:]\n",
    "print(df_train.shape)\n",
    "print(df_test.shape)\n",
    "X_train, y_train = df_train['Phrase'].values, df_train['Sentiment'].values\n",
    "X_test, y_test = df_test['Phrase'].values, df_test['Sentiment'].values"
   ]
  },
  {
   "cell_type": "code",
   "execution_count": null,
   "metadata": {
    "colab": {
     "base_uri": "https://localhost:8080/",
     "height": 85
    },
    "id": "8_9PgmWVeYYo",
    "outputId": "86e2a4f9-6a70-419c-92f2-6eec5e18791b"
   },
   "outputs": [
    {
     "name": "stdout",
     "output_type": "stream",
     "text": [
      "[[  0   1   2   3   4]\n",
      " [ 46 189 507 201  57]]\n",
      "[[  0   1   2   3   4]\n",
      " [ 44 166 520 214  56]]\n"
     ]
    }
   ],
   "source": [
    "# check the category distribution in the train and test set\n",
    "\n",
    "import numpy as np\n",
    "unique, counts = np.unique(y_train, return_counts=True)\n",
    "print(np.asarray((unique, counts)))\n",
    "unique, counts = np.unique(y_test, return_counts=True)\n",
    "print(np.asarray((unique, counts)))\n"
   ]
  },
  {
   "cell_type": "code",
   "execution_count": null,
   "metadata": {
    "colab": {
     "base_uri": "https://localhost:8080/",
     "height": 221
    },
    "id": "L4IqFqglednM",
    "outputId": "b66aec17-fdfa-4ddd-dd27-48897653ec47"
   },
   "outputs": [
    {
     "name": "stdout",
     "output_type": "stream",
     "text": [
      "Very negative words\n",
      "(0.9979363730230754, 'holes')\n",
      "(1.0162234195409297, 'sluggish')\n",
      "(1.063475708785675, 'ways')\n",
      "(1.0695641896643968, 'lower')\n",
      "(1.1080579068105074, 'feeling')\n",
      "(1.1503862403816845, 'mess')\n",
      "(1.155753511998471, 'project')\n",
      "(1.180017839779986, 'labored')\n",
      "(1.3358762226684777, 'ridiculous')\n",
      "(1.6833128586405508, 'worst')\n",
      "\n"
     ]
    }
   ],
   "source": [
    "# build a LinearSVC model as a baseline comparison to the BERT model\n",
    "# since LinearSVC is a linear model, we can print out its top features in each category to see whether the model learned something meaningful\n",
    "# in this example, the top 10 features for the \"very negative\" category (category 0) is printed out\n",
    "# you can see that some top features are not so negative\n",
    "# with only 1000 training examples, LinearSVC achieved 0.529 accuracy on the 1000 test examples.\n",
    "\n",
    "from sklearn.feature_extraction.text import CountVectorizer\n",
    "unigram_count_vectorizer = CountVectorizer(encoding='latin-1', binary=False, min_df=2, stop_words='english')\n",
    "X_train_vec = unigram_count_vectorizer.fit_transform(X_train)\n",
    "from sklearn.svm import LinearSVC\n",
    "svm_clf = LinearSVC(C=1, max_iter=2000)\n",
    "svm_clf.fit(X_train_vec,y_train)\n",
    "feature_ranks = sorted(zip(svm_clf.coef_[0], unigram_count_vectorizer.get_feature_names()))\n",
    "very_negative_10 = feature_ranks[-10:]\n",
    "print(\"Very negative words\")\n",
    "for i in range(0, len(very_negative_10)):\n",
    "    print(very_negative_10[i])\n",
    "print()"
   ]
  },
  {
   "cell_type": "code",
   "execution_count": null,
   "metadata": {
    "colab": {
     "base_uri": "https://localhost:8080/",
     "height": 34
    },
    "id": "DPthPdETfDyB",
    "outputId": "e267b31a-0931-49e9-c689-14970afd9937"
   },
   "outputs": [
    {
     "data": {
      "text/plain": [
       "0.529"
      ]
     },
     "execution_count": 24,
     "metadata": {
      "tags": []
     },
     "output_type": "execute_result"
    }
   ],
   "source": [
    "# to save some time, we are using a hold-out test to compare the LinearSVC and BERT models\n",
    "# you can also try cross validation\n",
    "# LinearSVC test accuracy\n",
    "X_test_vec = unigram_count_vectorizer.transform(X_test)\n",
    "y_pred = svm_clf.predict(X_test_vec)\n",
    "svm_clf.score(X_test_vec,y_test)"
   ]
  },
  {
   "cell_type": "code",
   "execution_count": null,
   "metadata": {
    "colab": {
     "base_uri": "https://localhost:8080/",
     "height": 34
    },
    "id": "t5koVvRvtBDA",
    "outputId": "9e7279b7-084a-4870-db0a-8130d485b912"
   },
   "outputs": [
    {
     "name": "stdout",
     "output_type": "stream",
     "text": [
      "0.500998003992016\n"
     ]
    }
   ],
   "source": [
    "# you can also try cross validation on the train set\n",
    "# the result should not be far from the hold-out test\n",
    "from sklearn.pipeline import Pipeline\n",
    "from sklearn.model_selection import cross_val_score\n",
    "svm_pipe = Pipeline([('vect', unigram_count_vectorizer),('svm',LinearSVC(dual=True, max_iter=2000))])\n",
    "scores = cross_val_score(svm_pipe,X_train,y_train,cv=3)\n",
    "print(sum(scores)/len(scores))"
   ]
  },
  {
   "cell_type": "code",
   "execution_count": null,
   "metadata": {
    "colab": {
     "base_uri": "https://localhost:8080/",
     "height": 323
    },
    "id": "9MuLbwU9twGp",
    "outputId": "b3a778a1-ad54-48d2-9e0f-93f00b5d205f"
   },
   "outputs": [
    {
     "name": "stdout",
     "output_type": "stream",
     "text": [
      "[[  4  10  20  10   0]\n",
      " [  2  22 126  13   3]\n",
      " [  5  25 451  34   5]\n",
      " [  1  16 144  47   6]\n",
      " [  1   4  25  21   5]]\n",
      "\n",
      "              precision    recall  f1-score   support\n",
      "\n",
      "           0       0.31      0.09      0.14        44\n",
      "           1       0.29      0.13      0.18       166\n",
      "           2       0.59      0.87      0.70       520\n",
      "           3       0.38      0.22      0.28       214\n",
      "           4       0.26      0.09      0.13        56\n",
      "\n",
      "    accuracy                           0.53      1000\n",
      "   macro avg       0.36      0.28      0.29      1000\n",
      "weighted avg       0.46      0.53      0.47      1000\n",
      "\n"
     ]
    }
   ],
   "source": [
    "# print confusion matrix and classification report\n",
    "\n",
    "from sklearn.metrics import confusion_matrix\n",
    "y_pred = svm_clf.predict(X_test_vec)\n",
    "cm=confusion_matrix(y_test, y_pred, labels=[0,1,2,3,4])\n",
    "print(cm)\n",
    "print()\n",
    "\n",
    "from sklearn.metrics import classification_report\n",
    "target_names = ['0','1','2','3','4']\n",
    "print(classification_report(y_test, y_pred, target_names=target_names))"
   ]
  },
  {
   "cell_type": "code",
   "execution_count": null,
   "metadata": {
    "colab": {
     "base_uri": "https://localhost:8080/",
     "height": 102
    },
    "id": "25IbaNQGiSm4",
    "outputId": "5a59019b-04ac-4d86-cb64-a0edde89afa2"
   },
   "outputs": [
    {
     "name": "stdout",
     "output_type": "stream",
     "text": [
      "is a stunning new young talent in one of Chabrol 's most intense psychological mysteries\n",
      "An odd drama set in the world of lingerie models and bar dancers in the Midwest that held my interest precisely because it did n't try to .\n",
      "The Hours represents two of those well spent\n",
      "imbued with passion and attitude\n",
      "errors: 4\n"
     ]
    }
   ],
   "source": [
    "# LinearSVC error analysis\n",
    "# print out errors to check if any common patterns for further model improvement\n",
    "\n",
    "# print out very positive examples that were predicted as negative\n",
    "# you can print out different types of errors \n",
    "err_cnt = 0\n",
    "for i in range(0, len(y_test)):\n",
    "  if (y_test[i]==4 and y_pred[i]==1):\n",
    "    print(X_test[i])\n",
    "    err_cnt = err_cnt+1\n",
    "print(\"errors:\", err_cnt)"
   ]
  },
  {
   "cell_type": "code",
   "execution_count": 1,
   "metadata": {
    "colab": {
     "base_uri": "https://localhost:8080/",
     "height": 811
    },
    "id": "MxlrxV7Rlebz",
    "outputId": "0b446673-81ab-40dc-feb4-6084971216c9"
   },
   "outputs": [
    {
     "name": "stderr",
     "output_type": "stream",
     "text": [
      "'git' is not recognized as an internal or external command,\n",
      "operable program or batch file.\n",
      "The system cannot find the path specified.\n"
     ]
    }
   ],
   "source": [
    "# install BERT sklearn wrapper written by charles9n\n",
    "# check out the github page for fine tuning options and usage\n",
    "# https://github.com/charles9n/bert-sklearn\n",
    "\n",
    "!git clone -b master https://github.com/charles9n/bert-sklearn\n",
    "!cd bert-sklearn; pip install ."
   ]
  },
  {
   "cell_type": "code",
   "execution_count": null,
   "metadata": {
    "colab": {
     "base_uri": "https://localhost:8080/",
     "height": 1000
    },
    "id": "KRI1z1U_lVN7",
    "outputId": "df3f1b20-2bb1-4d77-a667-0d56a12b1fc2"
   },
   "outputs": [
    {
     "name": "stdout",
     "output_type": "stream",
     "text": [
      "Building sklearn text classifier...\n",
      "BertClassifier(bert_config_json=None, bert_model='bert-large-uncased',\n",
      "               bert_vocab=None, do_lower_case=None, epochs=3, eval_batch_size=8,\n",
      "               fp16=False, from_tf=False, gradient_accumulation_steps=1,\n",
      "               ignore_label=None, label_list=None, learning_rate=2e-05,\n",
      "               local_rank=-1, logfile='bert_sklearn.log', loss_scale=0,\n",
      "               max_seq_length=128, num_mlp_hiddens=500, num_mlp_layers=0,\n",
      "               random_state=42, restore_file=None, train_batch_size=32,\n",
      "               use_cuda=True, validation_fraction=0.1, warmup_proportion=0.1)\n"
     ]
    },
    {
     "name": "stderr",
     "output_type": "stream",
     "text": [
      "\n",
      "  0%|          | 0/231508 [00:00<?, ?B/s]\u001b[A\n",
      " 23%|██▎       | 52224/231508 [00:00<00:00, 427682.02B/s]\u001b[A\n",
      "100%|██████████| 231508/231508 [00:00<00:00, 898030.22B/s]\n"
     ]
    },
    {
     "name": "stdout",
     "output_type": "stream",
     "text": [
      "Loading bert-large-uncased model...\n"
     ]
    },
    {
     "name": "stderr",
     "output_type": "stream",
     "text": [
      "\n",
      "  0%|          | 0/1344997306 [00:00<?, ?B/s]\u001b[A\n",
      "  0%|          | 34816/1344997306 [00:00<1:19:32, 281818.74B/s]\u001b[A\n",
      "  0%|          | 243712/1344997306 [00:00<59:45, 375034.45B/s] \u001b[A\n",
      "  0%|          | 1027072/1344997306 [00:00<42:54, 522125.09B/s]\u001b[A\n",
      "  0%|          | 4127744/1344997306 [00:00<30:14, 739113.89B/s]\u001b[A\n",
      "  1%|          | 8125440/1344997306 [00:00<21:19, 1045246.20B/s]\u001b[A\n",
      "  1%|          | 12499968/1344997306 [00:00<15:04, 1473833.51B/s]\u001b[A\n",
      "  1%|▏         | 16989184/1344997306 [00:00<10:42, 2068189.03B/s]\u001b[A\n",
      "  2%|▏         | 21593088/1344997306 [00:01<07:38, 2883745.31B/s]\u001b[A\n",
      "  2%|▏         | 24446976/1344997306 [00:01<05:38, 3899554.14B/s]\u001b[A\n",
      "  2%|▏         | 28874752/1344997306 [00:01<04:05, 5368168.22B/s]\u001b[A\n",
      "  2%|▏         | 32061440/1344997306 [00:01<03:07, 7009621.70B/s]\u001b[A\n",
      "  3%|▎         | 36502528/1344997306 [00:01<02:19, 9379000.91B/s]\u001b[A\n",
      "  3%|▎         | 40617984/1344997306 [00:01<01:46, 12206085.39B/s]\u001b[A\n",
      "  3%|▎         | 45151232/1344997306 [00:01<01:23, 15633238.71B/s]\u001b[A\n",
      "  4%|▎         | 49527808/1344997306 [00:01<01:08, 19011038.21B/s]\u001b[A\n",
      "  4%|▍         | 53768192/1344997306 [00:01<00:56, 22780815.95B/s]\u001b[A\n",
      "  4%|▍         | 57753600/1344997306 [00:01<00:49, 26072483.10B/s]\u001b[A\n",
      "  5%|▍         | 62635008/1344997306 [00:02<00:42, 30307337.83B/s]\u001b[A\n",
      "  5%|▍         | 66878464/1344997306 [00:02<00:38, 33140962.05B/s]\u001b[A\n",
      "  5%|▌         | 71120896/1344997306 [00:02<00:40, 31696114.82B/s]\u001b[A\n",
      "  6%|▌         | 75136000/1344997306 [00:02<00:39, 32029171.56B/s]\u001b[A\n",
      "  6%|▌         | 79264768/1344997306 [00:02<00:39, 32137089.02B/s]\u001b[A\n",
      "  6%|▌         | 83393536/1344997306 [00:02<00:39, 32149302.97B/s]\u001b[A\n",
      "  7%|▋         | 87522304/1344997306 [00:02<00:38, 32249196.46B/s]\u001b[A\n",
      "  7%|▋         | 92060672/1344997306 [00:02<00:37, 33162419.98B/s]\u001b[A\n",
      "  7%|▋         | 96029696/1344997306 [00:03<00:35, 34882602.99B/s]\u001b[A\n",
      "  7%|▋         | 99624960/1344997306 [00:03<00:36, 34431468.01B/s]\u001b[A\n",
      "  8%|▊         | 103144448/1344997306 [00:03<00:39, 31616511.65B/s]\u001b[A\n",
      "  8%|▊         | 106953728/1344997306 [00:03<00:37, 32857337.37B/s]\u001b[A\n",
      "  8%|▊         | 110321664/1344997306 [00:03<00:42, 29178081.75B/s]\u001b[A\n",
      "  8%|▊         | 113523712/1344997306 [00:03<00:42, 29236227.17B/s]\u001b[A\n",
      "  9%|▊         | 116541440/1344997306 [00:03<00:49, 24912558.69B/s]\u001b[A\n",
      "  9%|▉         | 119553024/1344997306 [00:03<00:47, 25678853.03B/s]\u001b[A\n",
      "  9%|▉         | 122250240/1344997306 [00:04<00:52, 23361556.60B/s]\u001b[A\n",
      "  9%|▉         | 124718080/1344997306 [00:04<00:57, 21250869.66B/s]\u001b[A\n",
      "  9%|▉         | 126971904/1344997306 [00:04<00:58, 20903737.81B/s]\u001b[A\n",
      " 10%|▉         | 129170432/1344997306 [00:04<01:00, 20221504.94B/s]\u001b[A\n",
      " 10%|▉         | 131261440/1344997306 [00:04<01:00, 20207397.25B/s]\u001b[A\n",
      " 10%|▉         | 133330944/1344997306 [00:04<01:03, 19087067.28B/s]\u001b[A\n",
      " 10%|█         | 135379968/1344997306 [00:04<01:02, 19408878.37B/s]\u001b[A\n",
      " 10%|█         | 137355264/1344997306 [00:04<01:03, 18966627.38B/s]\u001b[A\n",
      " 10%|█         | 139278336/1344997306 [00:05<01:06, 18132698.89B/s]\u001b[A\n",
      " 10%|█         | 141118464/1344997306 [00:05<01:11, 16721972.08B/s]\u001b[A\n",
      " 11%|█         | 142830592/1344997306 [00:05<01:17, 15554429.30B/s]\u001b[A\n",
      " 11%|█         | 144431104/1344997306 [00:05<01:21, 14670662.26B/s]\u001b[A\n",
      " 11%|█         | 145940480/1344997306 [00:05<01:22, 14587489.84B/s]\u001b[A\n",
      " 11%|█         | 147586048/1344997306 [00:05<01:20, 14900010.06B/s]\u001b[A\n",
      " 11%|█         | 149098496/1344997306 [00:05<01:21, 14593773.19B/s]\u001b[A\n",
      " 11%|█         | 150575104/1344997306 [00:05<01:22, 14499409.32B/s]\u001b[A\n",
      " 11%|█▏        | 152250368/1344997306 [00:05<01:18, 15108605.88B/s]\u001b[A\n",
      " 11%|█▏        | 153777152/1344997306 [00:06<01:22, 14515289.20B/s]\u001b[A\n",
      " 12%|█▏        | 155244544/1344997306 [00:06<01:31, 12993436.23B/s]\u001b[A\n",
      " 12%|█▏        | 156584960/1344997306 [00:06<01:34, 12565079.49B/s]\u001b[A\n",
      " 12%|█▏        | 157873152/1344997306 [00:06<01:39, 11880544.87B/s]\u001b[A\n",
      " 12%|█▏        | 159091712/1344997306 [00:06<01:52, 10587510.66B/s]\u001b[A\n",
      " 12%|█▏        | 160197632/1344997306 [00:06<02:08, 9222527.32B/s] \u001b[A\n",
      " 12%|█▏        | 161184768/1344997306 [00:06<02:19, 8506311.24B/s]\u001b[A\n",
      " 12%|█▏        | 162092032/1344997306 [00:06<02:36, 7545876.36B/s]\u001b[A\n",
      " 12%|█▏        | 162906112/1344997306 [00:07<02:55, 6730390.14B/s]\u001b[A\n",
      " 12%|█▏        | 163637248/1344997306 [00:07<03:04, 6408284.35B/s]\u001b[A\n",
      " 12%|█▏        | 164322304/1344997306 [00:07<03:23, 5799711.16B/s]\u001b[A\n",
      " 12%|█▏        | 164944896/1344997306 [00:07<03:48, 5158134.09B/s]\u001b[A\n",
      " 12%|█▏        | 165504000/1344997306 [00:07<04:05, 4807216.65B/s]\u001b[A\n",
      " 12%|█▏        | 166020096/1344997306 [00:07<04:18, 4561525.15B/s]\u001b[A\n",
      " 12%|█▏        | 166503424/1344997306 [00:07<04:19, 4549437.94B/s]\u001b[A\n",
      " 12%|█▏        | 166977536/1344997306 [00:08<04:26, 4420377.90B/s]\u001b[A\n",
      " 12%|█▏        | 167434240/1344997306 [00:08<04:25, 4439517.70B/s]\u001b[A\n",
      " 12%|█▏        | 167888896/1344997306 [00:08<04:26, 4419372.92B/s]\u001b[A\n",
      " 13%|█▎        | 168344576/1344997306 [00:08<04:30, 4343375.38B/s]\u001b[A\n",
      " 13%|█▎        | 168803328/1344997306 [00:08<04:30, 4352414.86B/s]\u001b[A\n",
      " 13%|█▎        | 169294848/1344997306 [00:08<04:21, 4499859.66B/s]\u001b[A\n",
      " 13%|█▎        | 169753600/1344997306 [00:08<04:21, 4495290.34B/s]\u001b[A\n",
      " 13%|█▎        | 170206208/1344997306 [00:08<04:23, 4459838.57B/s]\u001b[A\n",
      " 13%|█▎        | 170654720/1344997306 [00:08<04:23, 4452106.18B/s]\u001b[A\n",
      " 13%|█▎        | 171129856/1344997306 [00:08<04:20, 4502854.04B/s]\u001b[A\n",
      " 13%|█▎        | 171654144/1344997306 [00:09<04:15, 4594722.02B/s]\u001b[A\n",
      " 13%|█▎        | 172114944/1344997306 [00:09<04:17, 4559877.55B/s]\u001b[A\n",
      " 13%|█▎        | 172572672/1344997306 [00:09<04:17, 4556582.53B/s]\u001b[A\n",
      " 13%|█▎        | 173046784/1344997306 [00:09<04:19, 4510037.99B/s]\u001b[A\n",
      " 13%|█▎        | 173521920/1344997306 [00:09<04:18, 4526748.27B/s]\u001b[A\n",
      " 13%|█▎        | 173980672/1344997306 [00:09<05:03, 3864319.23B/s]\u001b[A\n",
      " 13%|█▎        | 174603264/1344997306 [00:09<04:28, 4359422.35B/s]\u001b[A\n",
      " 13%|█▎        | 175073280/1344997306 [00:09<04:45, 4098476.11B/s]\u001b[A\n",
      " 13%|█▎        | 175510528/1344997306 [00:10<05:05, 3831356.05B/s]\u001b[A\n",
      " 13%|█▎        | 175916032/1344997306 [00:10<05:15, 3709384.38B/s]\u001b[A\n",
      " 13%|█▎        | 176304128/1344997306 [00:10<05:16, 3693625.12B/s]\u001b[A\n",
      " 13%|█▎        | 176685056/1344997306 [00:10<05:28, 3557302.88B/s]\u001b[A\n",
      " 13%|█▎        | 177050624/1344997306 [00:10<06:05, 3195358.40B/s]\u001b[A\n",
      " 13%|█▎        | 177384448/1344997306 [00:10<06:29, 2997139.21B/s]\u001b[A\n",
      " 13%|█▎        | 177696768/1344997306 [00:10<06:56, 2800675.22B/s]\u001b[A\n",
      " 13%|█▎        | 177988608/1344997306 [00:10<07:22, 2639203.68B/s]\u001b[A\n",
      " 13%|█▎        | 178273280/1344997306 [00:11<07:38, 2546601.76B/s]\u001b[A\n",
      " 13%|█▎        | 178617344/1344997306 [00:11<07:29, 2592843.95B/s]\u001b[A\n",
      " 13%|█▎        | 178977792/1344997306 [00:11<07:18, 2660411.70B/s]\u001b[A\n",
      " 13%|█▎        | 179338240/1344997306 [00:11<07:09, 2711135.04B/s]\u001b[A\n",
      " 13%|█▎        | 179698688/1344997306 [00:11<07:04, 2746971.99B/s]\u001b[A\n",
      " 13%|█▎        | 180075520/1344997306 [00:11<07:02, 2755948.94B/s]\u001b[A\n",
      " 13%|█▎        | 180435968/1344997306 [00:11<06:50, 2835645.27B/s]\u001b[A\n",
      " 13%|█▎        | 180812800/1344997306 [00:11<06:45, 2874002.35B/s]\u001b[A\n",
      " 13%|█▎        | 181189632/1344997306 [00:12<06:42, 2891042.20B/s]\u001b[A\n",
      " 13%|█▎        | 181566464/1344997306 [00:12<06:39, 2913203.95B/s]\u001b[A\n",
      " 14%|█▎        | 181943296/1344997306 [00:12<06:37, 2928878.10B/s]\u001b[A\n",
      " 14%|█▎        | 182302720/1344997306 [00:12<06:14, 3100957.03B/s]\u001b[A\n",
      " 14%|█▎        | 182616064/1344997306 [00:12<06:40, 2898894.70B/s]\u001b[A\n",
      " 14%|█▎        | 182926336/1344997306 [00:12<06:44, 2875442.21B/s]\u001b[A\n",
      " 14%|█▎        | 183270400/1344997306 [00:12<06:37, 2925663.36B/s]\u001b[A\n",
      " 14%|█▎        | 183598080/1344997306 [00:12<06:29, 2983469.80B/s]\u001b[A\n",
      " 14%|█▎        | 183899136/1344997306 [00:12<06:29, 2980279.68B/s]\u001b[A\n",
      " 14%|█▎        | 184237056/1344997306 [00:13<06:29, 2981572.84B/s]\u001b[A\n",
      " 14%|█▎        | 184564736/1344997306 [00:13<06:22, 3033708.81B/s]\u001b[A\n",
      " 14%|█▎        | 184869888/1344997306 [00:13<06:22, 3029331.50B/s]\u001b[A\n",
      " 14%|█▍        | 185220096/1344997306 [00:13<06:25, 3009330.18B/s]\u001b[A\n",
      " 14%|█▍        | 185545728/1344997306 [00:13<06:16, 3079400.12B/s]\u001b[A\n",
      " 14%|█▍        | 185854976/1344997306 [00:13<06:34, 2941699.29B/s]\u001b[A\n",
      " 14%|█▍        | 186203136/1344997306 [00:13<06:23, 3025219.59B/s]\u001b[A\n",
      " 14%|█▍        | 186531840/1344997306 [00:13<06:13, 3099118.94B/s]\u001b[A\n",
      " 14%|█▍        | 186844160/1344997306 [00:13<06:32, 2953509.80B/s]\u001b[A\n",
      " 14%|█▍        | 187202560/1344997306 [00:14<06:15, 3085232.67B/s]\u001b[A\n",
      " 14%|█▍        | 187546624/1344997306 [00:14<06:09, 3136173.19B/s]\u001b[A\n",
      " 14%|█▍        | 187863040/1344997306 [00:14<06:23, 3019549.33B/s]\u001b[A\n",
      " 14%|█▍        | 188218368/1344997306 [00:14<06:06, 3153336.26B/s]\u001b[A\n",
      " 14%|█▍        | 188562432/1344997306 [00:14<06:01, 3198557.15B/s]\u001b[A\n",
      " 14%|█▍        | 188884992/1344997306 [00:14<06:05, 3164727.61B/s]\u001b[A\n",
      " 14%|█▍        | 189213696/1344997306 [00:14<06:01, 3200350.90B/s]\u001b[A\n",
      " 14%|█▍        | 189535232/1344997306 [00:14<06:06, 3155045.24B/s]\u001b[A\n",
      " 14%|█▍        | 189889536/1344997306 [00:14<06:03, 3173693.33B/s]\u001b[A\n",
      " 14%|█▍        | 190249984/1344997306 [00:14<05:52, 3279124.02B/s]\u001b[A\n",
      " 14%|█▍        | 190579712/1344997306 [00:15<05:55, 3247373.62B/s]\u001b[A\n",
      " 14%|█▍        | 190954496/1344997306 [00:15<05:53, 3264909.66B/s]\u001b[A\n",
      " 14%|█▍        | 191314944/1344997306 [00:15<05:44, 3351769.85B/s]\u001b[A\n",
      " 14%|█▍        | 191651840/1344997306 [00:15<05:44, 3347062.30B/s]\u001b[A\n",
      " 14%|█▍        | 192035840/1344997306 [00:15<05:39, 3400768.14B/s]\u001b[A\n",
      " 14%|█▍        | 192412672/1344997306 [00:15<05:40, 3388552.28B/s]\u001b[A\n",
      " 14%|█▍        | 192756736/1344997306 [00:15<05:44, 3344260.49B/s]\u001b[A\n",
      " 14%|█▍        | 193149952/1344997306 [00:15<05:42, 3366147.33B/s]\u001b[A\n",
      " 14%|█▍        | 193526784/1344997306 [00:15<05:33, 3450865.92B/s]\u001b[A\n",
      " 14%|█▍        | 193872896/1344997306 [00:16<05:35, 3431939.16B/s]\u001b[A\n",
      " 14%|█▍        | 194264064/1344997306 [00:16<05:29, 3488957.38B/s]\u001b[A\n",
      " 14%|█▍        | 194657280/1344997306 [00:16<05:25, 3529932.69B/s]\u001b[A\n",
      " 14%|█▍        | 195014656/1344997306 [00:16<05:24, 3542895.75B/s]\u001b[A\n",
      " 15%|█▍        | 195394560/1344997306 [00:16<05:18, 3607317.63B/s]\u001b[A\n",
      " 15%|█▍        | 195787776/1344997306 [00:16<05:17, 3617604.30B/s]\u001b[A\n",
      " 15%|█▍        | 196150272/1344997306 [00:16<05:25, 3526655.82B/s]\u001b[A\n",
      " 15%|█▍        | 196557824/1344997306 [00:16<05:21, 3569604.47B/s]\u001b[A\n",
      " 15%|█▍        | 196967424/1344997306 [00:16<05:15, 3637633.27B/s]\u001b[A\n",
      " 15%|█▍        | 197332992/1344997306 [00:16<05:17, 3616913.78B/s]\u001b[A\n",
      " 15%|█▍        | 197737472/1344997306 [00:17<05:13, 3656196.90B/s]\u001b[A\n",
      " 15%|█▍        | 198114304/1344997306 [00:17<06:06, 3126664.29B/s]\u001b[A\n",
      " 15%|█▍        | 198605824/1344997306 [00:17<05:35, 3415599.92B/s]\u001b[A\n",
      " 15%|█▍        | 198965248/1344997306 [00:17<05:56, 3213273.39B/s]\u001b[A\n",
      " 15%|█▍        | 199302144/1344997306 [00:17<06:09, 3097995.29B/s]\u001b[A\n",
      " 15%|█▍        | 199623680/1344997306 [00:17<06:14, 3060118.09B/s]\u001b[A\n",
      " 15%|█▍        | 199938048/1344997306 [00:17<06:19, 3020955.69B/s]\u001b[A\n",
      " 15%|█▍        | 200246272/1344997306 [00:17<06:36, 2886652.87B/s]\u001b[A\n",
      " 15%|█▍        | 200604672/1344997306 [00:18<06:22, 2990416.70B/s]\u001b[A\n",
      " 15%|█▍        | 200948736/1344997306 [00:18<06:09, 3099702.40B/s]\u001b[A\n",
      " 15%|█▍        | 201263104/1344997306 [00:18<06:20, 3005635.71B/s]\u001b[A\n",
      " 15%|█▍        | 201604096/1344997306 [00:18<06:14, 3051520.26B/s]\u001b[A\n",
      " 15%|█▌        | 201948160/1344997306 [00:18<06:04, 3137734.82B/s]\u001b[A\n",
      " 15%|█▌        | 202264576/1344997306 [00:18<06:10, 3084866.78B/s]\u001b[A\n",
      " 15%|█▌        | 202652672/1344997306 [00:18<05:59, 3174719.29B/s]\u001b[A\n",
      " 15%|█▌        | 203013120/1344997306 [00:18<05:55, 3215657.53B/s]\u001b[A\n",
      " 15%|█▌        | 203340800/1344997306 [00:18<05:55, 3211312.72B/s]\u001b[A\n",
      " 15%|█▌        | 203720704/1344997306 [00:19<05:38, 3367531.58B/s]\u001b[A\n",
      " 15%|█▌        | 204060672/1344997306 [00:19<05:42, 3330330.39B/s]\u001b[A\n",
      " 15%|█▌        | 204396544/1344997306 [00:19<06:27, 2940879.60B/s]\u001b[A\n",
      " 15%|█▌        | 204798976/1344997306 [00:19<05:58, 3178039.18B/s]\u001b[A\n",
      " 15%|█▌        | 205129728/1344997306 [00:19<06:28, 2937731.08B/s]\u001b[A\n",
      " 15%|█▌        | 205435904/1344997306 [00:19<06:40, 2846518.55B/s]\u001b[A\n",
      " 15%|█▌        | 205732864/1344997306 [00:19<06:45, 2810571.69B/s]\u001b[A\n",
      " 15%|█▌        | 206020608/1344997306 [00:19<06:50, 2777758.18B/s]\u001b[A\n",
      " 15%|█▌        | 206303232/1344997306 [00:19<07:13, 2626450.88B/s]\u001b[A\n",
      " 15%|█▌        | 206584832/1344997306 [00:20<07:05, 2678615.75B/s]\u001b[A\n",
      " 15%|█▌        | 206863360/1344997306 [00:20<07:00, 2708818.72B/s]\u001b[A\n",
      " 15%|█▌        | 207137792/1344997306 [00:20<07:08, 2654359.53B/s]\u001b[A\n",
      " 15%|█▌        | 207453184/1344997306 [00:20<06:48, 2785258.30B/s]\u001b[A\n",
      " 15%|█▌        | 207735808/1344997306 [00:20<07:07, 2658456.48B/s]\u001b[A\n",
      " 15%|█▌        | 208010240/1344997306 [00:20<07:04, 2676671.05B/s]\u001b[A\n",
      " 15%|█▌        | 208305152/1344997306 [00:20<06:55, 2734587.63B/s]\u001b[A\n",
      " 16%|█▌        | 208581632/1344997306 [00:20<07:03, 2682328.80B/s]\u001b[A\n",
      " 16%|█▌        | 208911360/1344997306 [00:20<06:52, 2755271.99B/s]\u001b[A\n",
      " 16%|█▌        | 209239040/1344997306 [00:21<06:42, 2823121.98B/s]\u001b[A\n",
      " 16%|█▌        | 209523712/1344997306 [00:21<06:46, 2795987.60B/s]\u001b[A\n",
      " 16%|█▌        | 209828864/1344997306 [00:21<06:35, 2867439.19B/s]\u001b[A\n",
      " 16%|█▌        | 210123776/1344997306 [00:21<06:33, 2882447.80B/s]\u001b[A\n",
      " 16%|█▌        | 210413568/1344997306 [00:21<07:15, 2608182.99B/s]\u001b[A\n",
      " 16%|█▌        | 210713600/1344997306 [00:21<07:14, 2610088.63B/s]\u001b[A"
     ]
    }
   ],
   "source": [
    "# fine tune a BERT base uncased model\n",
    "# since this wrapper has included vectorization using word embedding, no need to vectorize like in LinearSVC\n",
    "# first the pre-trained BERT model will be loaded in\n",
    "# then the training starts. 90% examples will be used as training examples and the other 10% as validation (parameter tuning)\n",
    "# default setting is 3 epoch. Each epoch takes in some training data\n",
    "from bert_sklearn import BertClassifier\n",
    "model = BertClassifier()         # text/text pair classification\n",
    "print(model)\n",
    "model.fit(X_train, y_train)"
   ]
  },
  {
   "cell_type": "code",
   "execution_count": null,
   "metadata": {
    "id": "vJ3eu4uCAmWu"
   },
   "outputs": [],
   "source": [
    "model.save('bert-sentiment.model')"
   ]
  },
  {
   "cell_type": "code",
   "execution_count": null,
   "metadata": {
    "colab": {
     "base_uri": "https://localhost:8080/",
     "height": 117,
     "referenced_widgets": [
      "104237ed2d7e41cb92dfb5725433dc6d",
      "ad66121bfee3474da58ed72e4baed7d8",
      "da3c907e568c490b869f2a3e3b15fd0b",
      "d1c4bca1d2af4cfc8a369c7927b413d3",
      "db3ec6fdbb2b42d8a354b6baa8c8134a",
      "ee7dfb8a7d174afbaedf2f596a967dee",
      "5671535b80544c5bbe7c87b5f66c6751",
      "f99d942c33864dde89a79b3b18960ebc"
     ]
    },
    "id": "ygxrHI2RqLf-",
    "outputId": "fb171acf-ceb3-4765-9fd2-ba022eb8b422"
   },
   "outputs": [
    {
     "data": {
      "application/vnd.jupyter.widget-view+json": {
       "model_id": "104237ed2d7e41cb92dfb5725433dc6d",
       "version_major": 2,
       "version_minor": 0
      },
      "text/plain": [
       "HBox(children=(FloatProgress(value=0.0, description='Testing', max=125.0, style=ProgressStyle(description_widt…"
      ]
     },
     "metadata": {
      "tags": []
     },
     "output_type": "display_data"
    },
    {
     "name": "stdout",
     "output_type": "stream",
     "text": [
      "\n",
      "\n",
      "Loss: 1.1000, Accuracy: 60.60%\n"
     ]
    },
    {
     "data": {
      "text/plain": [
       "60.6"
      ]
     },
     "execution_count": 30,
     "metadata": {
      "tags": []
     },
     "output_type": "execute_result"
    }
   ],
   "source": [
    "model.score(X_test, y_test)"
   ]
  },
  {
   "cell_type": "code",
   "execution_count": null,
   "metadata": {
    "colab": {
     "base_uri": "https://localhost:8080/",
     "height": 66,
     "referenced_widgets": [
      "ae64171d103b4533ae4b8a2788be2839",
      "e8be15a7416a4131b826e08808812d72",
      "da8e45fec56e45c09c37e4f441e780c7",
      "3a04b432dd394d3ab030ee0cd88c442d",
      "44085727770e4b72b8dc16dcab3104a8",
      "5067bc0ad3344fc493320668ef5e8783",
      "50407446066a4f4c86b56a52d208e749",
      "15626f01407a4520b69e4a755ad6abb2"
     ]
    },
    "id": "GGZ2l9dDqq86",
    "outputId": "537f17aa-f1ba-4246-8dfa-87018c9ed8c9"
   },
   "outputs": [
    {
     "data": {
      "application/vnd.jupyter.widget-view+json": {
       "model_id": "ae64171d103b4533ae4b8a2788be2839",
       "version_major": 2,
       "version_minor": 0
      },
      "text/plain": [
       "HBox(children=(FloatProgress(value=0.0, description='Predicting', max=125.0, style=ProgressStyle(description_w…"
      ]
     },
     "metadata": {
      "tags": []
     },
     "output_type": "display_data"
    },
    {
     "name": "stdout",
     "output_type": "stream",
     "text": [
      "\n"
     ]
    }
   ],
   "source": [
    "y_pred = model.predict(X_test)"
   ]
  },
  {
   "cell_type": "code",
   "execution_count": null,
   "metadata": {
    "colab": {
     "base_uri": "https://localhost:8080/",
     "height": 323
    },
    "id": "2jSjybRNyhGP",
    "outputId": "0b7cb640-e8a8-42aa-c83f-126c18b274e1"
   },
   "outputs": [
    {
     "name": "stdout",
     "output_type": "stream",
     "text": [
      "[[  4  10  20  10   0]\n",
      " [  2  22 126  13   3]\n",
      " [  5  25 451  34   5]\n",
      " [  1  16 144  47   6]\n",
      " [  1   4  25  21   5]]\n",
      "\n",
      "              precision    recall  f1-score   support\n",
      "\n",
      "           0       0.31      0.09      0.14        44\n",
      "           1       0.29      0.13      0.18       166\n",
      "           2       0.59      0.87      0.70       520\n",
      "           3       0.38      0.22      0.28       214\n",
      "           4       0.26      0.09      0.13        56\n",
      "\n",
      "    accuracy                           0.53      1000\n",
      "   macro avg       0.36      0.28      0.29      1000\n",
      "weighted avg       0.46      0.53      0.47      1000\n",
      "\n"
     ]
    }
   ],
   "source": [
    "from sklearn.metrics import confusion_matrix\n",
    "y_pred = svm_clf.predict(X_test_vec)\n",
    "cm=confusion_matrix(y_test, y_pred, labels=[0,1,2,3,4])\n",
    "print(cm)\n",
    "print()\n",
    "\n",
    "from sklearn.metrics import classification_report\n",
    "target_names = ['0','1','2','3','4']\n",
    "print(classification_report(y_test, y_pred, target_names=target_names))"
   ]
  },
  {
   "cell_type": "code",
   "execution_count": null,
   "metadata": {
    "colab": {
     "base_uri": "https://localhost:8080/",
     "height": 51
    },
    "id": "7U-m_Ht-gQuL",
    "outputId": "b1a6682b-14b9-48cc-bef3-750aa7aaa829"
   },
   "outputs": [
    {
     "name": "stdout",
     "output_type": "stream",
     "text": [
      "since its poignancy hooks us completely\n",
      "errors: 1\n"
     ]
    }
   ],
   "source": [
    "# BERT error analysis\n",
    "err_cnt = 0\n",
    "for i in range(0, len(y_test)):\n",
    "  if (y_test[i]==4 and y_pred[i]==1):\n",
    "    print(X_test[i])\n",
    "    err_cnt = err_cnt+1\n",
    "print(\"errors:\", err_cnt)"
   ]
  },
  {
   "cell_type": "code",
   "execution_count": null,
   "metadata": {
    "colab": {
     "base_uri": "https://localhost:8080/",
     "height": 34
    },
    "id": "Az8XBai8w01E",
    "outputId": "c20d98dc-0128-484e-832c-f67204e35d9b"
   },
   "outputs": [
    {
     "name": "stdout",
     "output_type": "stream",
     "text": [
      "59.39742137346928\n"
     ]
    }
   ],
   "source": [
    "from sklearn.model_selection import cross_val_score\n",
    "scores = cross_val_score(model,X_train,y_train,cv=3)\n",
    "print(sum(scores)/len(scores))"
   ]
  }
 ],
 "metadata": {
  "accelerator": "GPU",
  "colab": {
   "collapsed_sections": [],
   "name": "sklearn-BERT-sentiment.ipynb",
   "provenance": [],
   "toc_visible": true
  },
  "kernelspec": {
   "display_name": "Python 3",
   "language": "python",
   "name": "python3"
  },
  "language_info": {
   "codemirror_mode": {
    "name": "ipython",
    "version": 3
   },
   "file_extension": ".py",
   "mimetype": "text/x-python",
   "name": "python",
   "nbconvert_exporter": "python",
   "pygments_lexer": "ipython3",
   "version": "3.7.6"
  },
  "widgets": {
   "application/vnd.jupyter.widget-state+json": {
    "104237ed2d7e41cb92dfb5725433dc6d": {
     "model_module": "@jupyter-widgets/controls",
     "model_name": "HBoxModel",
     "state": {
      "_dom_classes": [],
      "_model_module": "@jupyter-widgets/controls",
      "_model_module_version": "1.5.0",
      "_model_name": "HBoxModel",
      "_view_count": null,
      "_view_module": "@jupyter-widgets/controls",
      "_view_module_version": "1.5.0",
      "_view_name": "HBoxView",
      "box_style": "",
      "children": [
       "IPY_MODEL_da3c907e568c490b869f2a3e3b15fd0b",
       "IPY_MODEL_d1c4bca1d2af4cfc8a369c7927b413d3"
      ],
      "layout": "IPY_MODEL_ad66121bfee3474da58ed72e4baed7d8"
     }
    },
    "15626f01407a4520b69e4a755ad6abb2": {
     "model_module": "@jupyter-widgets/base",
     "model_name": "LayoutModel",
     "state": {
      "_model_module": "@jupyter-widgets/base",
      "_model_module_version": "1.2.0",
      "_model_name": "LayoutModel",
      "_view_count": null,
      "_view_module": "@jupyter-widgets/base",
      "_view_module_version": "1.2.0",
      "_view_name": "LayoutView",
      "align_content": null,
      "align_items": null,
      "align_self": null,
      "border": null,
      "bottom": null,
      "display": null,
      "flex": null,
      "flex_flow": null,
      "grid_area": null,
      "grid_auto_columns": null,
      "grid_auto_flow": null,
      "grid_auto_rows": null,
      "grid_column": null,
      "grid_gap": null,
      "grid_row": null,
      "grid_template_areas": null,
      "grid_template_columns": null,
      "grid_template_rows": null,
      "height": null,
      "justify_content": null,
      "justify_items": null,
      "left": null,
      "margin": null,
      "max_height": null,
      "max_width": null,
      "min_height": null,
      "min_width": null,
      "object_fit": null,
      "object_position": null,
      "order": null,
      "overflow": null,
      "overflow_x": null,
      "overflow_y": null,
      "padding": null,
      "right": null,
      "top": null,
      "visibility": null,
      "width": null
     }
    },
    "3a04b432dd394d3ab030ee0cd88c442d": {
     "model_module": "@jupyter-widgets/controls",
     "model_name": "HTMLModel",
     "state": {
      "_dom_classes": [],
      "_model_module": "@jupyter-widgets/controls",
      "_model_module_version": "1.5.0",
      "_model_name": "HTMLModel",
      "_view_count": null,
      "_view_module": "@jupyter-widgets/controls",
      "_view_module_version": "1.5.0",
      "_view_name": "HTMLView",
      "description": "",
      "description_tooltip": null,
      "layout": "IPY_MODEL_15626f01407a4520b69e4a755ad6abb2",
      "placeholder": "​",
      "style": "IPY_MODEL_50407446066a4f4c86b56a52d208e749",
      "value": " 125/125 [05:42&lt;00:00,  2.74s/it]"
     }
    },
    "44085727770e4b72b8dc16dcab3104a8": {
     "model_module": "@jupyter-widgets/controls",
     "model_name": "ProgressStyleModel",
     "state": {
      "_model_module": "@jupyter-widgets/controls",
      "_model_module_version": "1.5.0",
      "_model_name": "ProgressStyleModel",
      "_view_count": null,
      "_view_module": "@jupyter-widgets/base",
      "_view_module_version": "1.2.0",
      "_view_name": "StyleView",
      "bar_color": null,
      "description_width": "initial"
     }
    },
    "50407446066a4f4c86b56a52d208e749": {
     "model_module": "@jupyter-widgets/controls",
     "model_name": "DescriptionStyleModel",
     "state": {
      "_model_module": "@jupyter-widgets/controls",
      "_model_module_version": "1.5.0",
      "_model_name": "DescriptionStyleModel",
      "_view_count": null,
      "_view_module": "@jupyter-widgets/base",
      "_view_module_version": "1.2.0",
      "_view_name": "StyleView",
      "description_width": ""
     }
    },
    "5067bc0ad3344fc493320668ef5e8783": {
     "model_module": "@jupyter-widgets/base",
     "model_name": "LayoutModel",
     "state": {
      "_model_module": "@jupyter-widgets/base",
      "_model_module_version": "1.2.0",
      "_model_name": "LayoutModel",
      "_view_count": null,
      "_view_module": "@jupyter-widgets/base",
      "_view_module_version": "1.2.0",
      "_view_name": "LayoutView",
      "align_content": null,
      "align_items": null,
      "align_self": null,
      "border": null,
      "bottom": null,
      "display": null,
      "flex": null,
      "flex_flow": null,
      "grid_area": null,
      "grid_auto_columns": null,
      "grid_auto_flow": null,
      "grid_auto_rows": null,
      "grid_column": null,
      "grid_gap": null,
      "grid_row": null,
      "grid_template_areas": null,
      "grid_template_columns": null,
      "grid_template_rows": null,
      "height": null,
      "justify_content": null,
      "justify_items": null,
      "left": null,
      "margin": null,
      "max_height": null,
      "max_width": null,
      "min_height": null,
      "min_width": null,
      "object_fit": null,
      "object_position": null,
      "order": null,
      "overflow": null,
      "overflow_x": null,
      "overflow_y": null,
      "padding": null,
      "right": null,
      "top": null,
      "visibility": null,
      "width": null
     }
    },
    "5671535b80544c5bbe7c87b5f66c6751": {
     "model_module": "@jupyter-widgets/controls",
     "model_name": "DescriptionStyleModel",
     "state": {
      "_model_module": "@jupyter-widgets/controls",
      "_model_module_version": "1.5.0",
      "_model_name": "DescriptionStyleModel",
      "_view_count": null,
      "_view_module": "@jupyter-widgets/base",
      "_view_module_version": "1.2.0",
      "_view_name": "StyleView",
      "description_width": ""
     }
    },
    "ad66121bfee3474da58ed72e4baed7d8": {
     "model_module": "@jupyter-widgets/base",
     "model_name": "LayoutModel",
     "state": {
      "_model_module": "@jupyter-widgets/base",
      "_model_module_version": "1.2.0",
      "_model_name": "LayoutModel",
      "_view_count": null,
      "_view_module": "@jupyter-widgets/base",
      "_view_module_version": "1.2.0",
      "_view_name": "LayoutView",
      "align_content": null,
      "align_items": null,
      "align_self": null,
      "border": null,
      "bottom": null,
      "display": null,
      "flex": null,
      "flex_flow": null,
      "grid_area": null,
      "grid_auto_columns": null,
      "grid_auto_flow": null,
      "grid_auto_rows": null,
      "grid_column": null,
      "grid_gap": null,
      "grid_row": null,
      "grid_template_areas": null,
      "grid_template_columns": null,
      "grid_template_rows": null,
      "height": null,
      "justify_content": null,
      "justify_items": null,
      "left": null,
      "margin": null,
      "max_height": null,
      "max_width": null,
      "min_height": null,
      "min_width": null,
      "object_fit": null,
      "object_position": null,
      "order": null,
      "overflow": null,
      "overflow_x": null,
      "overflow_y": null,
      "padding": null,
      "right": null,
      "top": null,
      "visibility": null,
      "width": null
     }
    },
    "ae64171d103b4533ae4b8a2788be2839": {
     "model_module": "@jupyter-widgets/controls",
     "model_name": "HBoxModel",
     "state": {
      "_dom_classes": [],
      "_model_module": "@jupyter-widgets/controls",
      "_model_module_version": "1.5.0",
      "_model_name": "HBoxModel",
      "_view_count": null,
      "_view_module": "@jupyter-widgets/controls",
      "_view_module_version": "1.5.0",
      "_view_name": "HBoxView",
      "box_style": "",
      "children": [
       "IPY_MODEL_da8e45fec56e45c09c37e4f441e780c7",
       "IPY_MODEL_3a04b432dd394d3ab030ee0cd88c442d"
      ],
      "layout": "IPY_MODEL_e8be15a7416a4131b826e08808812d72"
     }
    },
    "d1c4bca1d2af4cfc8a369c7927b413d3": {
     "model_module": "@jupyter-widgets/controls",
     "model_name": "HTMLModel",
     "state": {
      "_dom_classes": [],
      "_model_module": "@jupyter-widgets/controls",
      "_model_module_version": "1.5.0",
      "_model_name": "HTMLModel",
      "_view_count": null,
      "_view_module": "@jupyter-widgets/controls",
      "_view_module_version": "1.5.0",
      "_view_name": "HTMLView",
      "description": "",
      "description_tooltip": null,
      "layout": "IPY_MODEL_f99d942c33864dde89a79b3b18960ebc",
      "placeholder": "​",
      "style": "IPY_MODEL_5671535b80544c5bbe7c87b5f66c6751",
      "value": " 125/125 [05:57&lt;00:00,  2.86s/it]"
     }
    },
    "da3c907e568c490b869f2a3e3b15fd0b": {
     "model_module": "@jupyter-widgets/controls",
     "model_name": "FloatProgressModel",
     "state": {
      "_dom_classes": [],
      "_model_module": "@jupyter-widgets/controls",
      "_model_module_version": "1.5.0",
      "_model_name": "FloatProgressModel",
      "_view_count": null,
      "_view_module": "@jupyter-widgets/controls",
      "_view_module_version": "1.5.0",
      "_view_name": "ProgressView",
      "bar_style": "success",
      "description": "Testing: 100%",
      "description_tooltip": null,
      "layout": "IPY_MODEL_ee7dfb8a7d174afbaedf2f596a967dee",
      "max": 125,
      "min": 0,
      "orientation": "horizontal",
      "style": "IPY_MODEL_db3ec6fdbb2b42d8a354b6baa8c8134a",
      "value": 125
     }
    },
    "da8e45fec56e45c09c37e4f441e780c7": {
     "model_module": "@jupyter-widgets/controls",
     "model_name": "FloatProgressModel",
     "state": {
      "_dom_classes": [],
      "_model_module": "@jupyter-widgets/controls",
      "_model_module_version": "1.5.0",
      "_model_name": "FloatProgressModel",
      "_view_count": null,
      "_view_module": "@jupyter-widgets/controls",
      "_view_module_version": "1.5.0",
      "_view_name": "ProgressView",
      "bar_style": "success",
      "description": "Predicting: 100%",
      "description_tooltip": null,
      "layout": "IPY_MODEL_5067bc0ad3344fc493320668ef5e8783",
      "max": 125,
      "min": 0,
      "orientation": "horizontal",
      "style": "IPY_MODEL_44085727770e4b72b8dc16dcab3104a8",
      "value": 125
     }
    },
    "db3ec6fdbb2b42d8a354b6baa8c8134a": {
     "model_module": "@jupyter-widgets/controls",
     "model_name": "ProgressStyleModel",
     "state": {
      "_model_module": "@jupyter-widgets/controls",
      "_model_module_version": "1.5.0",
      "_model_name": "ProgressStyleModel",
      "_view_count": null,
      "_view_module": "@jupyter-widgets/base",
      "_view_module_version": "1.2.0",
      "_view_name": "StyleView",
      "bar_color": null,
      "description_width": "initial"
     }
    },
    "e8be15a7416a4131b826e08808812d72": {
     "model_module": "@jupyter-widgets/base",
     "model_name": "LayoutModel",
     "state": {
      "_model_module": "@jupyter-widgets/base",
      "_model_module_version": "1.2.0",
      "_model_name": "LayoutModel",
      "_view_count": null,
      "_view_module": "@jupyter-widgets/base",
      "_view_module_version": "1.2.0",
      "_view_name": "LayoutView",
      "align_content": null,
      "align_items": null,
      "align_self": null,
      "border": null,
      "bottom": null,
      "display": null,
      "flex": null,
      "flex_flow": null,
      "grid_area": null,
      "grid_auto_columns": null,
      "grid_auto_flow": null,
      "grid_auto_rows": null,
      "grid_column": null,
      "grid_gap": null,
      "grid_row": null,
      "grid_template_areas": null,
      "grid_template_columns": null,
      "grid_template_rows": null,
      "height": null,
      "justify_content": null,
      "justify_items": null,
      "left": null,
      "margin": null,
      "max_height": null,
      "max_width": null,
      "min_height": null,
      "min_width": null,
      "object_fit": null,
      "object_position": null,
      "order": null,
      "overflow": null,
      "overflow_x": null,
      "overflow_y": null,
      "padding": null,
      "right": null,
      "top": null,
      "visibility": null,
      "width": null
     }
    },
    "ee7dfb8a7d174afbaedf2f596a967dee": {
     "model_module": "@jupyter-widgets/base",
     "model_name": "LayoutModel",
     "state": {
      "_model_module": "@jupyter-widgets/base",
      "_model_module_version": "1.2.0",
      "_model_name": "LayoutModel",
      "_view_count": null,
      "_view_module": "@jupyter-widgets/base",
      "_view_module_version": "1.2.0",
      "_view_name": "LayoutView",
      "align_content": null,
      "align_items": null,
      "align_self": null,
      "border": null,
      "bottom": null,
      "display": null,
      "flex": null,
      "flex_flow": null,
      "grid_area": null,
      "grid_auto_columns": null,
      "grid_auto_flow": null,
      "grid_auto_rows": null,
      "grid_column": null,
      "grid_gap": null,
      "grid_row": null,
      "grid_template_areas": null,
      "grid_template_columns": null,
      "grid_template_rows": null,
      "height": null,
      "justify_content": null,
      "justify_items": null,
      "left": null,
      "margin": null,
      "max_height": null,
      "max_width": null,
      "min_height": null,
      "min_width": null,
      "object_fit": null,
      "object_position": null,
      "order": null,
      "overflow": null,
      "overflow_x": null,
      "overflow_y": null,
      "padding": null,
      "right": null,
      "top": null,
      "visibility": null,
      "width": null
     }
    },
    "f99d942c33864dde89a79b3b18960ebc": {
     "model_module": "@jupyter-widgets/base",
     "model_name": "LayoutModel",
     "state": {
      "_model_module": "@jupyter-widgets/base",
      "_model_module_version": "1.2.0",
      "_model_name": "LayoutModel",
      "_view_count": null,
      "_view_module": "@jupyter-widgets/base",
      "_view_module_version": "1.2.0",
      "_view_name": "LayoutView",
      "align_content": null,
      "align_items": null,
      "align_self": null,
      "border": null,
      "bottom": null,
      "display": null,
      "flex": null,
      "flex_flow": null,
      "grid_area": null,
      "grid_auto_columns": null,
      "grid_auto_flow": null,
      "grid_auto_rows": null,
      "grid_column": null,
      "grid_gap": null,
      "grid_row": null,
      "grid_template_areas": null,
      "grid_template_columns": null,
      "grid_template_rows": null,
      "height": null,
      "justify_content": null,
      "justify_items": null,
      "left": null,
      "margin": null,
      "max_height": null,
      "max_width": null,
      "min_height": null,
      "min_width": null,
      "object_fit": null,
      "object_position": null,
      "order": null,
      "overflow": null,
      "overflow_x": null,
      "overflow_y": null,
      "padding": null,
      "right": null,
      "top": null,
      "visibility": null,
      "width": null
     }
    }
   }
  }
 },
 "nbformat": 4,
 "nbformat_minor": 1
}
