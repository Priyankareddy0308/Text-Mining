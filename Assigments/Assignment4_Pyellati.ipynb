{
 "cells": [
  {
   "cell_type": "markdown",
   "metadata": {},
   "source": [
    "## Assignment 4"
   ]
  },
  {
   "cell_type": "code",
   "execution_count": 19,
   "metadata": {},
   "outputs": [],
   "source": [
    "import pandas as pd"
   ]
  },
  {
   "cell_type": "code",
   "execution_count": 27,
   "metadata": {},
   "outputs": [],
   "source": [
    "df = pd.read_csv(\"C:/Users/PRIYANKA/OneDrive - Syracuse University/Text Mining/Assignment 4/pubmed_causal_language_use_1.csv\")"
   ]
  },
  {
   "cell_type": "code",
   "execution_count": 28,
   "metadata": {},
   "outputs": [
    {
     "data": {
      "text/html": [
       "<div>\n",
       "<style scoped>\n",
       "    .dataframe tbody tr th:only-of-type {\n",
       "        vertical-align: middle;\n",
       "    }\n",
       "\n",
       "    .dataframe tbody tr th {\n",
       "        vertical-align: top;\n",
       "    }\n",
       "\n",
       "    .dataframe thead th {\n",
       "        text-align: right;\n",
       "    }\n",
       "</style>\n",
       "<table border=\"1\" class=\"dataframe\">\n",
       "  <thead>\n",
       "    <tr style=\"text-align: right;\">\n",
       "      <th></th>\n",
       "      <th>sentence</th>\n",
       "      <th>label</th>\n",
       "    </tr>\n",
       "  </thead>\n",
       "  <tbody>\n",
       "    <tr>\n",
       "      <th>0</th>\n",
       "      <td>Levels of cholesterol fractions in patients wi...</td>\n",
       "      <td>0</td>\n",
       "    </tr>\n",
       "    <tr>\n",
       "      <th>1</th>\n",
       "      <td>Faster aspart and IAsp were confirmed noninfer...</td>\n",
       "      <td>0</td>\n",
       "    </tr>\n",
       "    <tr>\n",
       "      <th>2</th>\n",
       "      <td>Major operative morbidity after minimally inva...</td>\n",
       "      <td>0</td>\n",
       "    </tr>\n",
       "    <tr>\n",
       "      <th>3</th>\n",
       "      <td>The promise of combining risk assessment, comm...</td>\n",
       "      <td>0</td>\n",
       "    </tr>\n",
       "    <tr>\n",
       "      <th>4</th>\n",
       "      <td>PPARÎ´ peroxisome proliferator-activated recep...</td>\n",
       "      <td>0</td>\n",
       "    </tr>\n",
       "  </tbody>\n",
       "</table>\n",
       "</div>"
      ],
      "text/plain": [
       "                                            sentence  label\n",
       "0  Levels of cholesterol fractions in patients wi...      0\n",
       "1  Faster aspart and IAsp were confirmed noninfer...      0\n",
       "2  Major operative morbidity after minimally inva...      0\n",
       "3  The promise of combining risk assessment, comm...      0\n",
       "4  PPARÎ´ peroxisome proliferator-activated recep...      0"
      ]
     },
     "execution_count": 28,
     "metadata": {},
     "output_type": "execute_result"
    }
   ],
   "source": [
    "df.head()"
   ]
  },
  {
   "cell_type": "code",
   "execution_count": 29,
   "metadata": {},
   "outputs": [
    {
     "ename": "NameError",
     "evalue": "name 'X' is not defined",
     "output_type": "error",
     "traceback": [
      "\u001b[1;31m---------------------------------------------------------------------------\u001b[0m",
      "\u001b[1;31mNameError\u001b[0m                                 Traceback (most recent call last)",
      "\u001b[1;32m<ipython-input-29-1c7d2885b2e2>\u001b[0m in \u001b[0;36m<module>\u001b[1;34m\u001b[0m\n\u001b[0;32m      1\u001b[0m \u001b[1;32mfrom\u001b[0m \u001b[0msklearn\u001b[0m\u001b[1;33m.\u001b[0m\u001b[0mmodel_selection\u001b[0m \u001b[1;32mimport\u001b[0m \u001b[0mtrain_test_split\u001b[0m\u001b[1;33m\u001b[0m\u001b[1;33m\u001b[0m\u001b[0m\n\u001b[1;32m----> 2\u001b[1;33m \u001b[0mX_train\u001b[0m\u001b[1;33m,\u001b[0m \u001b[0mX_test\u001b[0m\u001b[1;33m,\u001b[0m \u001b[0my_train\u001b[0m\u001b[1;33m,\u001b[0m \u001b[0my_test\u001b[0m \u001b[1;33m=\u001b[0m \u001b[0mtrain_test_split\u001b[0m\u001b[1;33m(\u001b[0m\u001b[0mX\u001b[0m\u001b[1;33m,\u001b[0m \u001b[0my\u001b[0m\u001b[1;33m,\u001b[0m \u001b[0mtest_size\u001b[0m\u001b[1;33m=\u001b[0m\u001b[1;36m0.4\u001b[0m\u001b[1;33m,\u001b[0m \u001b[0mrandom_state\u001b[0m\u001b[1;33m=\u001b[0m\u001b[1;36m0\u001b[0m\u001b[1;33m)\u001b[0m\u001b[1;33m\u001b[0m\u001b[1;33m\u001b[0m\u001b[0m\n\u001b[0m\u001b[0;32m      3\u001b[0m \u001b[1;33m\u001b[0m\u001b[0m\n\u001b[0;32m      4\u001b[0m \u001b[0mprint\u001b[0m\u001b[1;33m(\u001b[0m\u001b[0mX_train\u001b[0m\u001b[1;33m.\u001b[0m\u001b[0mshape\u001b[0m\u001b[1;33m,\u001b[0m \u001b[0my_train\u001b[0m\u001b[1;33m.\u001b[0m\u001b[0mshape\u001b[0m\u001b[1;33m,\u001b[0m \u001b[0mX_test\u001b[0m\u001b[1;33m.\u001b[0m\u001b[0mshape\u001b[0m\u001b[1;33m,\u001b[0m \u001b[0my_test\u001b[0m\u001b[1;33m.\u001b[0m\u001b[0mshape\u001b[0m\u001b[1;33m)\u001b[0m\u001b[1;33m\u001b[0m\u001b[1;33m\u001b[0m\u001b[0m\n\u001b[0;32m      5\u001b[0m \u001b[0mprint\u001b[0m\u001b[1;33m(\u001b[0m\u001b[0mX_train\u001b[0m\u001b[1;33m[\u001b[0m\u001b[1;36m0\u001b[0m\u001b[1;33m]\u001b[0m\u001b[1;33m)\u001b[0m\u001b[1;33m\u001b[0m\u001b[1;33m\u001b[0m\u001b[0m\n",
      "\u001b[1;31mNameError\u001b[0m: name 'X' is not defined"
     ]
    }
   ],
   "source": [
    "from sklearn.model_selection import train_test_split\n",
    "X_train, X_test, y_train, y_test = train_test_split(X, y, test_size=0.4, random_state=0)\n",
    "\n",
    "print(X_train.shape, y_train.shape, X_test.shape, y_test.shape)\n",
    "print(X_train[0])\n",
    "print(y_train[0])\n",
    "print(X_test[0])\n",
    "print(y_test[0])"
   ]
  },
  {
   "cell_type": "code",
   "execution_count": 10,
   "metadata": {},
   "outputs": [
    {
     "name": "stdout",
     "output_type": "stream",
     "text": [
      "(1000, 2)\n",
      "(1000, 2)\n"
     ]
    }
   ],
   "source": [
    "# prepare train and test data\n",
    "# since fine tuning a BERT model still requires a significant amount of time, \n",
    "# only 1000 training examples and 1000 test examples will be used for demo purpose.\n",
    "# prior experiment shows LinearSVC's best accuracy (3-fold CV) is about 62-65% depending on vectorization options\n",
    "# BERT should be able to outperform LinearSVC with far fewer training examples.\n",
    "\n",
    "dff = df.sample(frac=1)\n",
    "#train_size = int(0.01 * len(dff))\n",
    "#df_train = dff[:train_size]\n",
    "#df_test = dff[train_size:]\n",
    "df_train = dff[:1000]\n",
    "df_test = dff[-1000:]\n",
    "print(df_train.shape)\n",
    "print(df_test.shape)\n",
    "X_train, y_train = df_train['sentence'].values, df_train['label'].values\n",
    "X_test, y_test = df_test['sentence'].values, df_test['label'].values"
   ]
  },
  {
   "cell_type": "code",
   "execution_count": 11,
   "metadata": {},
   "outputs": [
    {
     "name": "stdout",
     "output_type": "stream",
     "text": [
      "[[  0   1   2   3]\n",
      " [453 142  71 334]]\n",
      "[[  0   1   2   3]\n",
      " [450 173  67 310]]\n"
     ]
    }
   ],
   "source": [
    "# check the category distribution in the train and test set\n",
    "\n",
    "import numpy as np\n",
    "unique, counts = np.unique(y_train, return_counts=True)\n",
    "print(np.asarray((unique, counts)))\n",
    "unique, counts = np.unique(y_test, return_counts=True)\n",
    "print(np.asarray((unique, counts)))"
   ]
  },
  {
   "cell_type": "code",
   "execution_count": 12,
   "metadata": {},
   "outputs": [
    {
     "name": "stdout",
     "output_type": "stream",
     "text": [
      "Very negative words\n",
      "(0.6490927754614901, 'missing')\n",
      "(0.6499411273917953, 'concentrations')\n",
      "(0.6712995425024264, 'understand')\n",
      "(0.67930712523442, 'arterial')\n",
      "(0.7117815670678607, 'noninferior')\n",
      "(0.724891578151237, 'studies')\n",
      "(0.8362230712675192, 'drugs')\n",
      "(0.888998094910451, 'considered')\n",
      "(0.9606683617871902, 'despite')\n",
      "(1.0309617053668034, 'needed')\n",
      "\n"
     ]
    }
   ],
   "source": [
    "# build a LinearSVC model as a baseline comparison to the BERT model\n",
    "# since LinearSVC is a linear model, we can print out its top features in each category to see whether the model learned something meaningful\n",
    "# in this example, the top 10 features for the \"very negative\" category (category 0) is printed out\n",
    "# you can see that some top features are not so negative\n",
    "# with only 1000 training examples, LinearSVC achieved 0.529 accuracy on the 1000 test examples.\n",
    "\n",
    "from sklearn.feature_extraction.text import CountVectorizer\n",
    "unigram_count_vectorizer = CountVectorizer(encoding='latin-1', binary=False, min_df=2, stop_words='english')\n",
    "X_train_vec = unigram_count_vectorizer.fit_transform(X_train)\n",
    "from sklearn.svm import LinearSVC\n",
    "svm_clf = LinearSVC(C=1, max_iter=2000)\n",
    "svm_clf.fit(X_train_vec,y_train)\n",
    "feature_ranks = sorted(zip(svm_clf.coef_[0], unigram_count_vectorizer.get_feature_names()))\n",
    "very_negative_10 = feature_ranks[-10:]\n",
    "print(\"Very negative words\")\n",
    "for i in range(0, len(very_negative_10)):\n",
    "    print(very_negative_10[i])\n",
    "print()\n"
   ]
  },
  {
   "cell_type": "code",
   "execution_count": 13,
   "metadata": {},
   "outputs": [
    {
     "name": "stdout",
     "output_type": "stream",
     "text": [
      "0.6569833306360252\n"
     ]
    }
   ],
   "source": [
    "# to save some time, we are using a hold-out test to compare the LinearSVC and BERT models\n",
    "# you can also try cross validation\n",
    "# LinearSVC test accuracy\n",
    "X_test_vec = unigram_count_vectorizer.transform(X_test)\n",
    "y_pred = svm_clf.predict(X_test_vec)\n",
    "svm_clf.score(X_test_vec,y_test)\n",
    "\n",
    "# you can also try cross validation on the train set\n",
    "# the result should not be far from the hold-out test\n",
    "from sklearn.pipeline import Pipeline\n",
    "from sklearn.model_selection import cross_val_score\n",
    "svm_pipe = Pipeline([('vect', unigram_count_vectorizer),('svm',LinearSVC(dual=True, max_iter=2000))])\n",
    "scores = cross_val_score(svm_pipe,X_train,y_train,cv=3)\n",
    "print(sum(scores)/len(scores))"
   ]
  },
  {
   "cell_type": "code",
   "execution_count": 17,
   "metadata": {},
   "outputs": [
    {
     "name": "stdout",
     "output_type": "stream",
     "text": [
      "[[352  25  18  55]\n",
      " [ 64  65  14  30]\n",
      " [ 25  12  17  13]\n",
      " [ 68  13   5 224]]\n",
      "\n",
      "              precision    recall  f1-score   support\n",
      "\n",
      "           0       0.69      0.78      0.73       450\n",
      "           1       0.57      0.38      0.45       173\n",
      "           2       0.31      0.25      0.28        67\n",
      "           3       0.70      0.72      0.71       310\n",
      "\n",
      "    accuracy                           0.66      1000\n",
      "   macro avg       0.57      0.53      0.54      1000\n",
      "weighted avg       0.65      0.66      0.65      1000\n",
      "\n",
      "Few studies have addressed the topic, and the results of these studies provide only limited support for an increased risk of post-operative cognitive dysfunction in patients who are obese.\n",
      "They tended to be older, socio-economically disadvantaged, and more fragile.\n",
      "Risk factor screening methods are poor predictors of which pregnant  women will be diagnosed with GDM.\n",
      "Rates of recurrent preeclampsia among women with a history of preeclampsia decreased by 30% after release of the US Preventive Services Task Force recommendation for aspirin for preeclampsia prevention.\n",
      "There was no clear improvement in neurological outcomes after TTM in patients with moderate or severe TBI.\n",
      "The percentage of young women with risk factors for breast cancer was found to be alarmingly high.\n",
      "However, for sthenia syndromes such as Qi stagnation syndrome (QSS), heart blood stasis syndrome (HBSS), and CCS, there was no obvious difference.\n",
      "Our study confirms rapid and deep ovarian reserve alteration in young women receiving chemotherapy for breast cancer, and shows moderate AMH recovery in some patients.\n",
      "In early PD, weight gain was revealed over three years accompanied by an increase in FM and waist circumference.\n",
      "With negative MRI findings (BI-RADS category 1, 2, or 3), the risk of malignancy is less than 4%.\n",
      "Modified Mallampati test was better for predicting difficult laryngoscopy compared to other bedside screening tests.\n",
      "Patients with stable weight had longer survivals than patients who lost or gained weight.\n",
      "These findings obtained in vitro and in vivo provide new insights into the adverse relation between blood transfusions and patient outcome.\n",
      "The results in this trial did not highlight any differences between  those who received the intervention and those who received usual care.\n",
      "Dactylitis is a frequent manifestation in patients with SpA, even during the early stages of the disease.\n",
      "Non-mass enhancement in the setting of a known index cancer, older age, a landmark, and larger lesion size is more likely to be malignant.\n",
      "Oral impacts were more frequently reported in T2D cases than controls.\n",
      "A combination of individual fatty acids, characterised by high concentrations of linoleic acid, odd-chain fatty acids, and very long-chain fatty acids, was associated with lower incidence of T2D.\n",
      "However, 25(OH)D3 interacts with bone formation markers, particularly in subjects with high iPTH concentrations.\n",
      "The volume of the gastric remnant increased significantly during the first year after LSG.\n",
      "Among participants with severe obesity, there was substantial weight loss 3 years after bariatric surgery, with the majority experiencing maximum weight change during the first year.\n",
      "Correlations appear to be more complex in AMD and RVO.\n",
      "Despite continuous access to health insurance, publicly insured women were less likely than privately insured women to receive a preconception consult-an evidence-based intervention known to improve pregnancy outcomes.\n",
      "Furthermore, FCR is frequent among women, particularly when closer in time to primary surgery.\n",
      "The prevalence of hypertension and the yearly increase of mean blood pressure were disturbingly high in these patients.\n",
      "The CHA2DS2-VASc tool predicts thromboembolic events and overall mortality in patients without atrial fibrillation who have implantable devices.\n",
      "Among middle-aged and elderly women in rural China, the nutrition status of anaemic cases is far below that of controls.\n",
      "In general in Poland, the PCOS phenotype is more severe in women living in rural areas.\n",
      "This may relate to the effects of new AEDs on vitamin B12 and folate metabolism.\n",
      "Patients on HIST had the lowest likelihood of presenting with STEMI.\n",
      "Patients with AUS-detected metastases had a higher axillary tumour burden than those with SNB-detected metastases.\n",
      "Greater HbA1c variability predicts retinopathy, early nephropathy, and CAN, in addition to established risk factors, in adolescents with T1D.\n",
      "Despite an overall detectable association in the meta-analysis, considerable heterogeneity existed between studies.\n",
      "ABCB1 1236 TT genotype and older age might be a predictor of PIPN, which diminishes quality of life of cancer survivors.\n",
      "Mild PTSD symptoms are common in patients with lung cancer 6 months after treatment; however, a full diagnosis of PTSD is uncommon.\n",
      "An improvement can be observed: a transition from a suspicion about  special diet management to an appropriate and responsible management of meals for children and young people suffering from this specific condition.\"\n",
      "Upregulation of VEGF and CD34 is indicative of a remarkable angiogenesis and a widespread vascular concentration in cholesterol granulomas.\n",
      "It can be regarded as an index for the relationship of apoA-I and apoB to the early, still clinically asymptomatic, steps of the pathogenesis of coronary disease.\n",
      "The best predictors of ICIs are physical findings of trauma to the head and history of LOC.\n",
      "DME demonstrated a convincing relationship between BCVA and CRT.\n",
      "Moreover, these biomarkers are predictors of T2DM subjects and should take more attention to measure levels of these as well as to target therapy/interventions.\n",
      "\"Unlike previous studies, our data do not support an association of HbA1c with arterial hypertension that is statistically independent of age and body mass index.\"\n",
      "With the use of molecular subtype classification including the Ki-67  proliferation index, suspicious nodes detected in luminal B tumors by MRI are likely to have positive findings and warrant preoperative tissue sampling.\n",
      "Nutritional risk was detected in 30% of ambulatory ADPKD patients with relatively good renal function.\n",
      "Diagnosis seemed to be more important than abnormal examination findings in predicting antibiotic prescribing, although these were correlated.\n",
      "However, subjects with diabetes had significantly more components of the metabolic syndrome.\n",
      "It is also less common among  patients who received anti-TNF-Î± therapy.\n",
      "This is the first prospective study showing the role of body fat distribution, determined by computed tomography scan, in predicting the natural history of prehypertension.\n",
      "In this observational study, HIV-infected individuals after first ACS exhibited worse lipid profiles than controls particularly during the first 6 months while receiving less potent statins.\n",
      "Our results confirm that APOE variants are associated with obesity in the Saudi population.\n",
      "MCP-1 could be used as a biomarker to identify high-risk patients for potential AKI prevention strategies in the setting of cardiac operations.\n",
      "Older age, white race, and recurrence predicted testing.\n",
      "\"These results indicate that the NRST is a promising screening tool for the prediction of malnutrition and sarcopenia in community-dwelling older Japanese people.\"\n",
      "The study provides a link between iron nutrition, physiological deregulation and stress.\n",
      "\"The children who were overweight at 13 years of age gained more weight than their normal-weight peers by the age of 2 or 3 years onward.\"\n",
      "The clinical and biochemical indices differed significantly between  women diagnosed with PCOS living in cities and villages.\n",
      "The likelihood of malignancy for a NML on screening breast US was greater than 2%.\n",
      "LOS of stroke patients in Nigeria was shown to be prolonged especially when compared to similar settings in West Africa.\n",
      "Patients with older age, negative medication belief, polypharmacy, co-morbidities and those who were poorly involved in the therapeutic decision were more likely to experience DTP.\n",
      "Patients who had previously undergone BF were better prepared for their procedure; however, satisfaction levels after the procedure were similar in both groups.\n",
      "\"A rise in ketones following alcohol ingestion occurred despite subjects being in a strictly controlled environment with no interruption in insulin administration.\"\n",
      "Further, a significant proportion of patients were detected to have hypertension and dyslipidaemias.\n",
      "Presence of GERD may not be considered as a contra-indication for sleeve gastrectomy.\n",
      "\"During GH treatment, fT4 decreased significantly to low-normal levels.\"\n",
      "A high proportion of patients in Abuja have markers of DM and pre-diabetes at the time of TB diagnosis.\n",
      "Based on the results of this study obesity and severity of distal radius fractures do not correlate.\n",
      "Symptom-specific outcomes were better in patients managed surgically  for PACG.\n",
      "Distractions are prevalent in ORs and in this study were linked to deterioration in intraoperative patient safety checks.\n",
      "errors: 68\n"
     ]
    }
   ],
   "source": [
    "# print confusion matrix and classification report\n",
    "\n",
    "from sklearn.metrics import confusion_matrix\n",
    "y_pred = svm_clf.predict(X_test_vec)\n",
    "cm=confusion_matrix(y_test, y_pred, labels=[0,1,2,3])\n",
    "print(cm)\n",
    "print()\n",
    "\n",
    "from sklearn.metrics import classification_report\n",
    "target_names = ['0','1','2','3']\n",
    "print(classification_report(y_test, y_pred, target_names=target_names))\n",
    "\n",
    "# LinearSVC error analysis\n",
    "# print out errors to check if any common patterns for further model improvement\n",
    "\n",
    "# print out very positive examples that were predicted as negative\n",
    "# you can print out different types of errors \n",
    "err_cnt = 0\n",
    "for i in range(0, len(y_test)):\n",
    "  if (y_test[i]==3 and y_pred[i]==0):\n",
    "    print(X_test[i])\n",
    "    err_cnt = err_cnt+1\n",
    "print(\"errors:\", err_cnt)"
   ]
  }
 ],
 "metadata": {
  "kernelspec": {
   "display_name": "Python 3",
   "language": "python",
   "name": "python3"
  },
  "language_info": {
   "codemirror_mode": {
    "name": "ipython",
    "version": 3
   },
   "file_extension": ".py",
   "mimetype": "text/x-python",
   "name": "python",
   "nbconvert_exporter": "python",
   "pygments_lexer": "ipython3",
   "version": "3.7.6"
  }
 },
 "nbformat": 4,
 "nbformat_minor": 4
}
